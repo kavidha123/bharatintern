{
 "cells": [
  {
   "cell_type": "markdown",
   "id": "fbda7069-9371-4be0-93c9-f6436284cf5e",
   "metadata": {},
   "source": [
    "# Load and Display Dataset"
   ]
  },
  {
   "cell_type": "code",
   "execution_count": 6,
   "id": "e27c7c50-5f71-4ec6-ad56-2d148a6e32e6",
   "metadata": {},
   "outputs": [
    {
     "name": "stdout",
     "output_type": "stream",
     "text": [
      "     v1                                                 v2 Unnamed: 2  \\\n",
      "0   ham  Go until jurong point, crazy.. Available only ...        NaN   \n",
      "1   ham                      Ok lar... Joking wif u oni...        NaN   \n",
      "2  spam  Free entry in 2 a wkly comp to win FA Cup fina...        NaN   \n",
      "3   ham  U dun say so early hor... U c already then say...        NaN   \n",
      "4   ham  Nah I don't think he goes to usf, he lives aro...        NaN   \n",
      "\n",
      "  Unnamed: 3 Unnamed: 4  \n",
      "0        NaN        NaN  \n",
      "1        NaN        NaN  \n",
      "2        NaN        NaN  \n",
      "3        NaN        NaN  \n",
      "4        NaN        NaN  \n"
     ]
    }
   ],
   "source": [
    "import pandas as pd\n",
    "\n",
    "# Load the dataset\n",
    "file_path = 'SMS/spam.csv'\n",
    "sms_data = pd.read_csv(file_path, encoding='latin-1')\n",
    "print(sms_data.head())\n"
   ]
  },
  {
   "cell_type": "markdown",
   "id": "56069ec3-738e-45b8-b495-e20218b52f29",
   "metadata": {},
   "source": [
    "# Dataset Info"
   ]
  },
  {
   "cell_type": "code",
   "execution_count": 7,
   "id": "f68da364-ef6d-4dee-92b7-a00f1d837e9a",
   "metadata": {},
   "outputs": [
    {
     "name": "stdout",
     "output_type": "stream",
     "text": [
      "<class 'pandas.core.frame.DataFrame'>\n",
      "RangeIndex: 5572 entries, 0 to 5571\n",
      "Data columns (total 5 columns):\n",
      " #   Column      Non-Null Count  Dtype \n",
      "---  ------      --------------  ----- \n",
      " 0   v1          5572 non-null   object\n",
      " 1   v2          5572 non-null   object\n",
      " 2   Unnamed: 2  50 non-null     object\n",
      " 3   Unnamed: 3  12 non-null     object\n",
      " 4   Unnamed: 4  6 non-null      object\n",
      "dtypes: object(5)\n",
      "memory usage: 217.8+ KB\n",
      "None\n"
     ]
    }
   ],
   "source": [
    "# Display dataset information\n",
    "print(sms_data.info())\n"
   ]
  },
  {
   "cell_type": "markdown",
   "id": "b439413a-97f8-4653-80e0-57a04ea1e77c",
   "metadata": {},
   "source": [
    "# Check for Missing Values"
   ]
  },
  {
   "cell_type": "code",
   "execution_count": 8,
   "id": "d09f5b23-a300-46e0-9911-75e36c2d270e",
   "metadata": {},
   "outputs": [
    {
     "name": "stdout",
     "output_type": "stream",
     "text": [
      "v1               0\n",
      "v2               0\n",
      "Unnamed: 2    5522\n",
      "Unnamed: 3    5560\n",
      "Unnamed: 4    5566\n",
      "dtype: int64\n"
     ]
    }
   ],
   "source": [
    "# Check for missing values\n",
    "print(sms_data.isnull().sum())\n"
   ]
  },
  {
   "cell_type": "markdown",
   "id": "e0ed5754-27f2-4b68-96e3-d5f4b167252f",
   "metadata": {},
   "source": [
    "# Remove Unnecessary Columns"
   ]
  },
  {
   "cell_type": "code",
   "execution_count": 10,
   "id": "53d2d053-26de-415b-884b-e6fad6273adb",
   "metadata": {},
   "outputs": [
    {
     "name": "stdout",
     "output_type": "stream",
     "text": [
      "     v1                                                 v2\n",
      "0   ham  Go until jurong point, crazy.. Available only ...\n",
      "1   ham                      Ok lar... Joking wif u oni...\n",
      "2  spam  Free entry in 2 a wkly comp to win FA Cup fina...\n",
      "3   ham  U dun say so early hor... U c already then say...\n",
      "4   ham  Nah I don't think he goes to usf, he lives aro...\n"
     ]
    }
   ],
   "source": [
    "# Remove unnecessary columns\n",
    "sms_data = sms_data.drop(['Unnamed: 2', 'Unnamed: 3', 'Unnamed: 4'], axis=1)\n",
    "print(sms_data.head())\n"
   ]
  },
  {
   "cell_type": "markdown",
   "id": "3924fc5b-69b8-4791-a3ab-d7688fd24f19",
   "metadata": {},
   "source": [
    "# Rename Columns"
   ]
  },
  {
   "cell_type": "code",
   "execution_count": 11,
   "id": "fa53bf6a-f12f-4295-9074-a8bec0dfda6d",
   "metadata": {},
   "outputs": [
    {
     "name": "stdout",
     "output_type": "stream",
     "text": [
      "  label                                            message\n",
      "0   ham  Go until jurong point, crazy.. Available only ...\n",
      "1   ham                      Ok lar... Joking wif u oni...\n",
      "2  spam  Free entry in 2 a wkly comp to win FA Cup fina...\n",
      "3   ham  U dun say so early hor... U c already then say...\n",
      "4   ham  Nah I don't think he goes to usf, he lives aro...\n"
     ]
    }
   ],
   "source": [
    "# Rename columns\n",
    "sms_data.columns = ['label', 'message']\n",
    "print(sms_data.head())\n"
   ]
  },
  {
   "cell_type": "markdown",
   "id": "25b78146-bbf7-4d88-a118-e7efc2dbb311",
   "metadata": {},
   "source": [
    "# Text Lowercasing"
   ]
  },
  {
   "cell_type": "code",
   "execution_count": 12,
   "id": "8af05854-2588-4f90-ad07-d98ab3b906e8",
   "metadata": {},
   "outputs": [
    {
     "name": "stdout",
     "output_type": "stream",
     "text": [
      "  label                                            message\n",
      "0   ham  go until jurong point, crazy.. available only ...\n",
      "1   ham                      ok lar... joking wif u oni...\n",
      "2  spam  free entry in 2 a wkly comp to win fa cup fina...\n",
      "3   ham  u dun say so early hor... u c already then say...\n",
      "4   ham  nah i don't think he goes to usf, he lives aro...\n"
     ]
    }
   ],
   "source": [
    "# Lowercase messages\n",
    "sms_data['message'] = sms_data['message'].str.lower()\n",
    "print(sms_data.head())\n"
   ]
  },
  {
   "cell_type": "markdown",
   "id": "23320bac-4d55-4c6f-b89a-37c1d5aa5698",
   "metadata": {},
   "source": [
    "# Encoding Labels"
   ]
  },
  {
   "cell_type": "code",
   "execution_count": 13,
   "id": "cef87371-f721-435a-af8f-6b04269d1db5",
   "metadata": {},
   "outputs": [
    {
     "name": "stdout",
     "output_type": "stream",
     "text": [
      "   label                                            message\n",
      "0      0  go until jurong point, crazy.. available only ...\n",
      "1      0                      ok lar... joking wif u oni...\n",
      "2      1  free entry in 2 a wkly comp to win fa cup fina...\n",
      "3      0  u dun say so early hor... u c already then say...\n",
      "4      0  nah i don't think he goes to usf, he lives aro...\n"
     ]
    }
   ],
   "source": [
    "# Encoding labels\n",
    "sms_data['label'] = sms_data['label'].map({'spam': 1, 'ham': 0})\n",
    "print(sms_data.head())\n"
   ]
  },
  {
   "cell_type": "markdown",
   "id": "7c91f4ae-b104-4a80-998a-92b132b90039",
   "metadata": {},
   "source": [
    "# Split Dataset"
   ]
  },
  {
   "cell_type": "code",
   "execution_count": 14,
   "id": "e29d563a-2e11-45c6-88c2-d4b5d2380b0e",
   "metadata": {},
   "outputs": [
    {
     "name": "stdout",
     "output_type": "stream",
     "text": [
      "Train size: (4179,)\n",
      "Test size: (1393,)\n"
     ]
    }
   ],
   "source": [
    "from sklearn.model_selection import train_test_split\n",
    "\n",
    "# Split the data\n",
    "X_train, X_test, y_train, y_test = train_test_split(sms_data['message'], sms_data['label'], test_size=0.25, random_state=42)\n",
    "print(\"Train size:\", X_train.shape)\n",
    "print(\"Test size:\", X_test.shape)\n"
   ]
  },
  {
   "cell_type": "markdown",
   "id": "1c17db65-35d2-4363-9464-e111e4b921f9",
   "metadata": {},
   "source": [
    "# Initialize CountVectorizer"
   ]
  },
  {
   "cell_type": "code",
   "execution_count": 15,
   "id": "2cad1ac8-0feb-4b73-8e69-23c73f549baf",
   "metadata": {},
   "outputs": [],
   "source": [
    "from sklearn.feature_extraction.text import CountVectorizer\n",
    "\n",
    "# Initialize CountVectorizer\n",
    "vectorizer = CountVectorizer(stop_words='english')\n"
   ]
  },
  {
   "cell_type": "markdown",
   "id": "717d361c-f717-4f49-a1f3-d33e0af4fee5",
   "metadata": {},
   "source": [
    "# Fit and Transform Training Data"
   ]
  },
  {
   "cell_type": "code",
   "execution_count": 16,
   "id": "3159dd34-8f22-4847-a975-e1464bf01f27",
   "metadata": {},
   "outputs": [
    {
     "name": "stdout",
     "output_type": "stream",
     "text": [
      "Vectorized training data shape: (4179, 7180)\n"
     ]
    }
   ],
   "source": [
    "# Fit and transform training data\n",
    "X_train_vectorized = vectorizer.fit_transform(X_train)\n",
    "print(\"Vectorized training data shape:\", X_train_vectorized.shape)\n"
   ]
  },
  {
   "cell_type": "markdown",
   "id": "2b6c70d9-31ad-4dd2-b134-71457795afc5",
   "metadata": {},
   "source": [
    "# Transform Test Data"
   ]
  },
  {
   "cell_type": "code",
   "execution_count": 17,
   "id": "dee15279-b029-4947-9dce-08307305d1f8",
   "metadata": {},
   "outputs": [
    {
     "name": "stdout",
     "output_type": "stream",
     "text": [
      "Vectorized test data shape: (1393, 7180)\n"
     ]
    }
   ],
   "source": [
    "# Transform test data\n",
    "X_test_vectorized = vectorizer.transform(X_test)\n",
    "print(\"Vectorized test data shape:\", X_test_vectorized.shape)\n"
   ]
  },
  {
   "cell_type": "markdown",
   "id": "3ff9e130-f107-43f7-8c4f-301908a7cadb",
   "metadata": {},
   "source": [
    "#  Initialize Multinomial Naive Bayes Model"
   ]
  },
  {
   "cell_type": "code",
   "execution_count": 18,
   "id": "422b5a87-12b5-4fc8-8c59-c2c229570fa1",
   "metadata": {},
   "outputs": [],
   "source": [
    "from sklearn.naive_bayes import MultinomialNB\n",
    "\n",
    "# Initialize the model\n",
    "model = MultinomialNB()\n"
   ]
  },
  {
   "cell_type": "markdown",
   "id": "affa14f3-e6c7-44a1-b7fe-ce6b6e0751fb",
   "metadata": {},
   "source": [
    "# Train the Model"
   ]
  },
  {
   "cell_type": "code",
   "execution_count": 19,
   "id": "0d231e3a-a9e8-4124-9cf5-27ec0ecada36",
   "metadata": {},
   "outputs": [
    {
     "name": "stdout",
     "output_type": "stream",
     "text": [
      "Model trained.\n"
     ]
    }
   ],
   "source": [
    "# Train the model\n",
    "model.fit(X_train_vectorized, y_train)\n",
    "print(\"Model trained.\")\n"
   ]
  },
  {
   "cell_type": "markdown",
   "id": "407718d6-674c-4e58-8cb1-c016c87c8c4e",
   "metadata": {},
   "source": [
    "#  Make Predictions"
   ]
  },
  {
   "cell_type": "code",
   "execution_count": 20,
   "id": "572c61be-9a67-43db-81fa-9b857e9ec644",
   "metadata": {},
   "outputs": [
    {
     "name": "stdout",
     "output_type": "stream",
     "text": [
      "Predictions made.\n"
     ]
    }
   ],
   "source": [
    "# Make predictions\n",
    "y_pred = model.predict(X_test_vectorized)\n",
    "print(\"Predictions made.\")\n"
   ]
  },
  {
   "cell_type": "markdown",
   "id": "caaec188-c603-46be-beb9-9a5b9d123d83",
   "metadata": {},
   "source": [
    "# Calculate Accuracy"
   ]
  },
  {
   "cell_type": "code",
   "execution_count": 21,
   "id": "d51bad85-4fd4-4505-a3d5-a209c991b660",
   "metadata": {},
   "outputs": [
    {
     "name": "stdout",
     "output_type": "stream",
     "text": [
      "Accuracy: 0.9827709978463748\n"
     ]
    }
   ],
   "source": [
    "from sklearn.metrics import accuracy_score\n",
    "\n",
    "# Calculate accuracy\n",
    "accuracy = accuracy_score(y_test, y_pred)\n",
    "print(\"Accuracy:\", accuracy)\n"
   ]
  },
  {
   "cell_type": "markdown",
   "id": "4ab1a18f-5116-4b44-939f-3bc41d39b0a2",
   "metadata": {},
   "source": [
    "# Display Classification Report"
   ]
  },
  {
   "cell_type": "code",
   "execution_count": 22,
   "id": "c4d7eaa9-dfa3-42f2-bae2-f6bf5edae5ff",
   "metadata": {},
   "outputs": [
    {
     "name": "stdout",
     "output_type": "stream",
     "text": [
      "Classification Report:\n",
      "               precision    recall  f1-score   support\n",
      "\n",
      "           0       0.99      0.99      0.99      1202\n",
      "           1       0.96      0.91      0.94       191\n",
      "\n",
      "    accuracy                           0.98      1393\n",
      "   macro avg       0.97      0.95      0.96      1393\n",
      "weighted avg       0.98      0.98      0.98      1393\n",
      "\n"
     ]
    }
   ],
   "source": [
    "from sklearn.metrics import classification_report\n",
    "\n",
    "# Classification report\n",
    "classification_rep = classification_report(y_test, y_pred)\n",
    "print(\"Classification Report:\\n\", classification_rep)\n"
   ]
  },
  {
   "cell_type": "markdown",
   "id": "a1027d63-5f52-4ec2-af38-03365dd3aa3f",
   "metadata": {},
   "source": [
    "# Confusion Matrix"
   ]
  },
  {
   "cell_type": "code",
   "execution_count": 23,
   "id": "d882e14a-417f-4d99-b5d8-3e724c2349e8",
   "metadata": {},
   "outputs": [
    {
     "name": "stdout",
     "output_type": "stream",
     "text": [
      "Confusion Matrix:\n",
      " [[1195    7]\n",
      " [  17  174]]\n"
     ]
    }
   ],
   "source": [
    "from sklearn.metrics import confusion_matrix\n",
    "\n",
    "# Confusion matrix\n",
    "conf_matrix = confusion_matrix(y_test, y_pred)\n",
    "print(\"Confusion Matrix:\\n\", conf_matrix)\n"
   ]
  },
  {
   "cell_type": "markdown",
   "id": "ac4a83ec-42fa-4188-aadc-cc6db318efd6",
   "metadata": {},
   "source": [
    "# Feature Names"
   ]
  },
  {
   "cell_type": "code",
   "execution_count": 24,
   "id": "97506d1b-3603-460b-a9ee-43d057f49fc9",
   "metadata": {},
   "outputs": [
    {
     "name": "stdout",
     "output_type": "stream",
     "text": [
      "Some feature names: ['00' '000' '000pes' '008704050406' '0089' '0121' '0125698789' '02' '0207'\n",
      " '02072069400']\n"
     ]
    }
   ],
   "source": [
    "# Feature names\n",
    "features = vectorizer.get_feature_names_out()\n",
    "print(\"Some feature names:\", features[:10])\n"
   ]
  },
  {
   "cell_type": "markdown",
   "id": "b230443f-46cf-49b4-b364-5dd7c2483651",
   "metadata": {},
   "source": [
    "# Most Informative Features"
   ]
  },
  {
   "cell_type": "code",
   "execution_count": 37,
   "id": "2fbe8e18-bb4c-49da-a562-cfd221e00a2a",
   "metadata": {},
   "outputs": [
    {
     "name": "stdout",
     "output_type": "stream",
     "text": [
      "\n",
      "Top 10 features for ham:\n",
      " ['come', 'know', 'like', 'got', 'll', 'ur', 'just', 'ok', 'gt', 'lt']\n",
      "\n",
      "Top 10 features for spam:\n",
      " ['prize', 'reply', 'www', 'claim', 'text', 'mobile', 'stop', 'ur', 'txt', 'free']\n"
     ]
    }
   ],
   "source": [
    "def show_top10(classifier, vectorizer, categories):\n",
    "    feature_names = vectorizer.get_feature_names_out()\n",
    "    for i, category in enumerate(categories):\n",
    "        # Use feature_log_prob_ here\n",
    "        top10 = sorted(zip(classifier.feature_log_prob_[i], feature_names))[-10:]\n",
    "        print(f\"\\nTop 10 features for {category}:\\n\", [f for _, f in top10])\n",
    "\n",
    "show_top10(model, vectorizer, ['ham', 'spam'])\n",
    "\n"
   ]
  },
  {
   "cell_type": "markdown",
   "id": "b1cb75f1-9a71-490c-9454-06be4c8c6220",
   "metadata": {},
   "source": [
    "# Experiment with Different Vectorizer Parameters"
   ]
  },
  {
   "cell_type": "code",
   "execution_count": 26,
   "id": "ef44f611-30eb-4e6c-971e-f93ebdc9924e",
   "metadata": {},
   "outputs": [
    {
     "name": "stdout",
     "output_type": "stream",
     "text": [
      "Vectorized with max_features=5000, training data shape: (4179, 5000)\n"
     ]
    }
   ],
   "source": [
    "# Experiment with different max_features\n",
    "vectorizer_2 = CountVectorizer(stop_words='english', max_features=5000)\n",
    "X_train_vectorized_2 = vectorizer_2.fit_transform(X_train)\n",
    "X_test_vectorized_2 = vectorizer_2.transform(X_test)\n",
    "print(\"Vectorized with max_features=5000, training data shape:\", X_train_vectorized_2.shape)\n"
   ]
  },
  {
   "cell_type": "markdown",
   "id": "592ffb79-c733-4c07-b29a-3f4d5a38da41",
   "metadata": {},
   "source": [
    "#  Train Model with New Vectorization"
   ]
  },
  {
   "cell_type": "code",
   "execution_count": 27,
   "id": "0a9208e4-11fc-4a35-ba2c-5403cdcf1bb2",
   "metadata": {},
   "outputs": [
    {
     "name": "stdout",
     "output_type": "stream",
     "text": [
      "Model trained with max_features=5000.\n"
     ]
    }
   ],
   "source": [
    "# Train model with new vectorization\n",
    "model_2 = MultinomialNB()\n",
    "model_2.fit(X_train_vectorized_2, y_train)\n",
    "print(\"Model trained with max_features=5000.\")\n"
   ]
  },
  {
   "cell_type": "markdown",
   "id": "5459124f-280e-4f27-926e-df5a86780419",
   "metadata": {},
   "source": [
    "# Predictions with New Model"
   ]
  },
  {
   "cell_type": "code",
   "execution_count": 28,
   "id": "451ea67d-9c66-4680-8c13-f1052554bf1b",
   "metadata": {},
   "outputs": [
    {
     "name": "stdout",
     "output_type": "stream",
     "text": [
      "Predictions made with new model.\n"
     ]
    }
   ],
   "source": [
    "# Predictions with new model\n",
    "y_pred_2 = model_2.predict(X_test_vectorized_2)\n",
    "print(\"Predictions made with new model.\")\n"
   ]
  },
  {
   "cell_type": "markdown",
   "id": "e8b8210f-5487-459d-9238-c4338df08377",
   "metadata": {},
   "source": [
    "# Accuracy with New Model"
   ]
  },
  {
   "cell_type": "code",
   "execution_count": 29,
   "id": "42ac81d8-69e0-4010-8ad6-30e61c511ff8",
   "metadata": {},
   "outputs": [
    {
     "name": "stdout",
     "output_type": "stream",
     "text": [
      "Accuracy with max_features=5000: 0.9834888729361091\n"
     ]
    }
   ],
   "source": [
    "# Accuracy with new model\n",
    "accuracy_2 = accuracy_score(y_test, y_pred_2)\n",
    "print(\"Accuracy with max_features=5000:\", accuracy_2)\n"
   ]
  },
  {
   "cell_type": "markdown",
   "id": "a8bf6435-3d78-4747-8fa9-e6153970e906",
   "metadata": {},
   "source": [
    "# Using TF-IDF Vectorization"
   ]
  },
  {
   "cell_type": "code",
   "execution_count": 30,
   "id": "e4aa1cfe-2dbf-4bc8-82dd-373c701bca23",
   "metadata": {},
   "outputs": [
    {
     "name": "stdout",
     "output_type": "stream",
     "text": [
      "TF-IDF vectorized training data shape: (4179, 7180)\n"
     ]
    }
   ],
   "source": [
    "from sklearn.feature_extraction.text import TfidfVectorizer\n",
    "\n",
    "# Using TF-IDF vectorizer\n",
    "tfidf_vectorizer = TfidfVectorizer(stop_words='english')\n",
    "X_train_tfidf = tfidf_vectorizer.fit_transform(X_train)\n",
    "X_test_tfidf = tfidf_vectorizer.transform(X_test)\n",
    "print(\"TF-IDF vectorized training data shape:\", X_train_tfidf.shape)\n"
   ]
  },
  {
   "cell_type": "markdown",
   "id": "aa053f3c-fc89-4e71-b529-66abf5b6766d",
   "metadata": {},
   "source": [
    "# Train Model with TF-IDF Vectorization"
   ]
  },
  {
   "cell_type": "code",
   "execution_count": 31,
   "id": "1a360a3e-8c95-477f-be2d-89ab89e7b0b6",
   "metadata": {},
   "outputs": [
    {
     "name": "stdout",
     "output_type": "stream",
     "text": [
      "Model trained with TF-IDF vectorization.\n"
     ]
    }
   ],
   "source": [
    "# Train model with TF-IDF vectorization\n",
    "model_tfidf = MultinomialNB()\n",
    "model_tfidf.fit(X_train_tfidf, y_train)\n",
    "print(\"Model trained with TF-IDF vectorization.\")\n"
   ]
  },
  {
   "cell_type": "markdown",
   "id": "5d502771-69ad-444b-8fb4-1310319770e0",
   "metadata": {},
   "source": [
    "# Predictions with TF-IDF Model"
   ]
  },
  {
   "cell_type": "code",
   "execution_count": 32,
   "id": "08143aa9-abfd-4f23-a07a-f8819770ef8c",
   "metadata": {},
   "outputs": [
    {
     "name": "stdout",
     "output_type": "stream",
     "text": [
      "Predictions made with TF-IDF model.\n"
     ]
    }
   ],
   "source": [
    "# Predictions with TF-IDF model\n",
    "y_pred_tfidf = model_tfidf.predict(X_test_tfidf)\n",
    "print(\"Predictions made with TF-IDF model.\")\n"
   ]
  },
  {
   "cell_type": "markdown",
   "id": "502d3faa-156a-44a8-941a-6e5090154c48",
   "metadata": {},
   "source": [
    "# Accuracy with TF-IDF Model"
   ]
  },
  {
   "cell_type": "code",
   "execution_count": 33,
   "id": "462a21c9-1504-4482-80e7-2aafa7bc40a5",
   "metadata": {},
   "outputs": [
    {
     "name": "stdout",
     "output_type": "stream",
     "text": [
      "Accuracy with TF-IDF vectorization: 0.9662598707824839\n"
     ]
    }
   ],
   "source": [
    "# Accuracy with TF-IDF model\n",
    "accuracy_tfidf = accuracy_score(y_test, y_pred_tfidf)\n",
    "print(\"Accuracy with TF-IDF vectorization:\", accuracy_tfidf)\n"
   ]
  },
  {
   "cell_type": "markdown",
   "id": "ed8fcf48-84d0-42da-ac08-1364ccce4ee5",
   "metadata": {},
   "source": [
    "# Exploring Message Length"
   ]
  },
  {
   "cell_type": "code",
   "execution_count": 34,
   "id": "ab957678-fe49-4a6a-8b14-f2c99bb3d783",
   "metadata": {},
   "outputs": [
    {
     "name": "stdout",
     "output_type": "stream",
     "text": [
      "                                             message  message_length\n",
      "0  go until jurong point, crazy.. available only ...             111\n",
      "1                      ok lar... joking wif u oni...              29\n",
      "2  free entry in 2 a wkly comp to win fa cup fina...             155\n",
      "3  u dun say so early hor... u c already then say...              49\n",
      "4  nah i don't think he goes to usf, he lives aro...              61\n"
     ]
    }
   ],
   "source": [
    "# Exploring message length\n",
    "sms_data['message_length'] = sms_data['message'].apply(len)\n",
    "print(sms_data[['message', 'message_length']].head())\n"
   ]
  },
  {
   "cell_type": "markdown",
   "id": "77d4e15d-5d5a-4054-894d-a80e306ec33e",
   "metadata": {},
   "source": [
    "# Analyzing Message Length"
   ]
  },
  {
   "cell_type": "code",
   "execution_count": 35,
   "id": "30790abe-5e1a-479b-993c-f4a96beb2c4f",
   "metadata": {},
   "outputs": [
    {
     "data": {
      "image/png": "[encoded data removed]",
      "text/plain": [
       "<Figure size 1000x600 with 1 Axes>"
      ]
     },
     "metadata": {},
     "output_type": "display_data"
    }
   ],
   "source": [
    "import matplotlib.pyplot as plt\n",
    "\n",
    "# Plotting message length\n",
    "plt.figure(figsize=(10, 6))\n",
    "sms_data['message_length'].plot(kind='hist', bins=50)\n",
    "plt.title('Message Length Distribution')\n",
    "plt.xlabel('Length')\n",
    "plt.ylabel('Frequency')\n",
    "plt.show()\n"
   ]
  },
  {
   "cell_type": "markdown",
   "id": "0d8510bd-6c16-4952-9a6f-ee10c733b79c",
   "metadata": {},
   "source": [
    "# Precision-Recall Curve"
   ]
  },
  {
   "cell_type": "code",
   "execution_count": 41,
   "id": "3a36b8da-fdc9-4207-8184-9221826dea65",
   "metadata": {},
   "outputs": [
    {
     "data": {
      "image/png": "[encoded data removed]",
      "text/plain": [
       "<Figure size 800x600 with 1 Axes>"
      ]
     },
     "metadata": {},
     "output_type": "display_data"
    }
   ],
   "source": [
    "from sklearn.metrics import precision_recall_curve\n",
    "\n",
    "# Calculate precision-recall curve\n",
    "precision, recall, thresholds = precision_recall_curve(y_test, model.predict_proba(X_test_vectorized)[:, 1])\n",
    "\n",
    "# Plot precision-recall curve\n",
    "plt.figure(figsize=(8, 6))\n",
    "plt.plot(recall, precision, color='green', lw=2)\n",
    "plt.xlabel('Recall')\n",
    "plt.ylabel('Precision')\n",
    "plt.title('Precision-Recall Curve')\n",
    "plt.show()\n"
   ]
  },
  {
   "cell_type": "markdown",
   "id": "b6675dd2-a176-44e1-9b8b-e3f71203d4ab",
   "metadata": {},
   "source": [
    "# ROC Curve"
   ]
  },
  {
   "cell_type": "code",
   "execution_count": 42,
   "id": "49c913b8-da9e-48b9-9f29-79f1913fae93",
   "metadata": {},
   "outputs": [
    {
     "data": {
      "image/png": "[encoded data removed]",
      "text/plain": [
       "<Figure size 800x600 with 1 Axes>"
      ]
     },
     "metadata": {},
     "output_type": "display_data"
    }
   ],
   "source": [
    "from sklearn.metrics import roc_curve, auc\n",
    "\n",
    "# Calculate ROC curve\n",
    "fpr, tpr, thresholds = roc_curve(y_test, model.predict_proba(X_test_vectorized)[:, 1])\n",
    "roc_auc = auc(fpr, tpr)\n",
    "\n",
    "# Plot ROC curve\n",
    "plt.figure(figsize=(8, 6))\n",
    "plt.plot(fpr, tpr, color='blue', lw=2, label='ROC curve (area = %0.2f)' % roc_auc)\n",
    "plt.plot([0, 1], [0, 1], color='gray', lw=2, linestyle='--')\n",
    "plt.xlabel('False Positive Rate')\n",
    "plt.ylabel('True Positive Rate')\n",
    "plt.title('Receiver Operating Characteristic (ROC) Curve')\n",
    "plt.legend(loc='lower right')\n",
    "plt.show()\n"
   ]
  },
  {
   "cell_type": "markdown",
   "id": "9661c8e5-102d-4958-b615-fb231bbd6e48",
   "metadata": {},
   "source": [
    "# Feature Importance in Naive Bayes"
   ]
  },
  {
   "cell_type": "code",
   "execution_count": 43,
   "id": "8c918180-6d6d-451b-81d2-9abae3d5edb7",
   "metadata": {},
   "outputs": [
    {
     "data": {
      "image/png": "[encoded data removed]",
      "text/plain": [
       "<Figure size 1000x600 with 1 Axes>"
      ]
     },
     "metadata": {},
     "output_type": "display_data"
    }
   ],
   "source": [
    "import numpy as np\n",
    "\n",
    "# Get feature importance\n",
    "feature_importances = np.exp(model.feature_log_prob_[1]) - np.exp(model.feature_log_prob_[0])\n",
    "\n",
    "# Top 10 features for spam\n",
    "top10_idx = np.argsort(feature_importances)[-10:]\n",
    "top10_features = vectorizer.get_feature_names_out()[top10_idx]\n",
    "\n",
    "# Plot\n",
    "plt.figure(figsize=(10, 6))\n",
    "sns.barplot(x=top10_features, y=feature_importances[top10_idx])\n",
    "plt.title('Top 10 Features for Spam Detection')\n",
    "plt.xlabel('Feature')\n",
    "plt.ylabel('Importance')\n",
    "plt.xticks(rotation=45)\n",
    "plt.show()\n"
   ]
  },
  {
   "cell_type": "markdown",
   "id": "d4b2f29a-d6c2-4b65-be02-ab4e0922d6ab",
   "metadata": {},
   "source": [
    "# Confusion Matrix Visualization"
   ]
  },
  {
   "cell_type": "code",
   "execution_count": 44,
   "id": "2420602e-f530-4c84-b555-6ebe99778c1d",
   "metadata": {},
   "outputs": [
    {
     "data": {
      "image/png": "[encoded data removed]",
      "text/plain": [
       "<Figure size 640x480 with 2 Axes>"
      ]
     },
     "metadata": {},
     "output_type": "display_data"
    }
   ],
   "source": [
    "from sklearn.metrics import confusion_matrix\n",
    "import seaborn as sns\n",
    "\n",
    "# Confusion matrix\n",
    "conf_mat = confusion_matrix(y_test, y_pred)\n",
    "\n",
    "# Visualization of the confusion matrix\n",
    "sns.heatmap(conf_mat, annot=True, fmt='d', cmap='Blues')\n",
    "plt.title('Confusion Matrix')\n",
    "plt.xlabel('Predicted Label')\n",
    "plt.ylabel('True Label')\n",
    "plt.show()\n"
   ]
  },
  {
   "cell_type": "code",
   "execution_count": null,
   "id": "b6be9b41-c5fe-4814-a94a-d7017eae597d",
   "metadata": {},
   "outputs": [],
   "source": []
  }
 ],
 "metadata": {
  "kernelspec": {
   "display_name": "Python 3 (ipykernel)",
   "language": "python",
   "name": "python3"
  },
  "language_info": {
   "codemirror_mode": {
    "name": "ipython",
    "version": 3
   },
   "file_extension": ".py",
   "mimetype": "text/x-python",
   "name": "python",
   "nbconvert_exporter": "python",
   "pygments_lexer": "ipython3",
   "version": "3.11.3"
  }
 },
 "nbformat": 4,
 "nbformat_minor": 5
}
